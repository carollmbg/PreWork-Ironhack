{
 "cells": [
  {
   "cell_type": "markdown",
   "metadata": {},
   "source": [
    "# Robin Hood:\n",
    "We are in a competition to win the archery contest in Sherwood. With our bow and arrows we shoot on a target and try to hit as close as possible to the center.\n",
    "\n",
    "The center of the target is represented by the values (0, 0) on the coordinate axes.\n",
    "\n",
    "![](images/arrows.jpg)\n",
    "\n",
    "## Goals:\n",
    "* data structures: lists, sets, tuples\n",
    "* logical operators: if-elif-else\n",
    "* loop: while/for\n",
    "* minimum (optional sorting)\n",
    "\n",
    "## Description:\n",
    "In the 2-dimensional space, a point can be defined by a pair of values that correspond to the horizontal coordinate (x) and the vertical coordinate (y). The space can be divided into 4 zones (quadrants): Q1, Q2, Q3, Q4. Whose single point of union is the point (0, 0).\n",
    "\n",
    "If a point is in Q1 both its x coordinate and the y are positive. I leave a link to wikipedia to familiarize yourself with these quadrants.\n",
    "\n",
    "https://en.wikipedia.org/wiki/Cartesian_coordinate_system\n",
    "\n",
    "https://en.wikipedia.org/wiki/Euclidean_distance\n",
    "\n",
    "## Shots\n",
    "```\n",
    "points = [(4, 5), (-0, 2), (4, 7), (1, -3), (3, -2), (4, 5),\n",
    "          (3, 2), (5, 7), (-5, 7), (2, 2), (-4, 5), (0, -2),\n",
    "          (-4, 7), (-1, 3), (-3, 2), (-4, -5), (-3, 2),\n",
    "          (5, 7), (5, 7), (2, 2), (9, 9), (-8, -9)]\n",
    "```\n",
    "\n",
    "## Tasks\n",
    "1. Robin Hood is famous for hitting an arrow with another arrow. Did you get it?\n",
    "2. Calculate how many arrows have fallen in each quadrant.\n",
    "3. Find the point closest to the center. Calculate its distance to the center. \n",
    "4. If the target has a radius of 9, calculate the number of arrows that must be picked up in the forest."
   ]
  },
  {
   "cell_type": "code",
   "execution_count": 1,
   "metadata": {},
   "outputs": [],
   "source": [
    "# Variables\n",
    "\n",
    "points = [(4, 5), (-0, 2), (4, 7), (1, -3), (3, -2), (4, 5),\n",
    "          (3, 2), (5, 7), (-5, 7), (2, 2), (-4, 5), (0, -2),\n",
    "          (-4, 7), (-1, 3), (-3, 2), (-4, -5), (-3, 2),\n",
    "          (5, 7), (5, 7), (2, 2), (9, 9), (-8, -9)]"
   ]
  },
  {
   "cell_type": "code",
   "execution_count": 15,
   "metadata": {},
   "outputs": [
    {
     "name": "stdout",
     "output_type": "stream",
     "text": [
      "True\n"
     ]
    }
   ],
   "source": [
    "# 1. Robin Hood is famous for hitting an arrow with another arrow. Did you get it?\n",
    "famous = []\n",
    "for i in range(len(points)):\n",
    "    if points[i] in points[i+1:]:\n",
    "        famous.append(points[i])\n",
    "if len(famous) > 2: #to be famous you have to have done it more than once\n",
    "    print(\"True\")\n",
    "else:\n",
    "    print('False')   \n"
   ]
  },
  {
   "cell_type": "code",
   "execution_count": 29,
   "metadata": {},
   "outputs": [],
   "source": [
    "# 2. Calculate how many arrows have fallen in each quadrant.\n",
    "def shoots(x):\n",
    "    l=len(x)\n",
    "    target_arrows=0\n",
    "    Q1=0\n",
    "    Q2=0\n",
    "    Q3=0\n",
    "    Q4=0\n",
    "    for i in range(l):\n",
    "        if x[i][0]==0 and x[i][1]==0:\n",
    "            target_arrows +=1\n",
    "        elif x[i][0]>0 and x[i][1]>0:\n",
    "            Q1 +=1\n",
    "        elif x[i][0]<0 and x[i][1]>0:\n",
    "            Q2 +=1\n",
    "        elif x[i][0]<0 and x[i][1]<0:\n",
    "            Q3 +=1\n",
    "        elif x[i][0]>0 and x[i][1]<0:\n",
    "            Q4 +=1\n",
    "    print(\"Target_shoots= %d, Q1_shoots= %d, Q2_shoots= %d, Q3_shoots= %d, Q4_shoots=%d\" %(target_arrows, Q1, Q2, Q3, Q4))"
   ]
  },
  {
   "cell_type": "code",
   "execution_count": 30,
   "metadata": {},
   "outputs": [
    {
     "name": "stdout",
     "output_type": "stream",
     "text": [
      "Target_shoots= 0, Q1_shoots= 10, Q2_shoots= 6, Q3_shoots= 2, Q4_shoots=2\n"
     ]
    }
   ],
   "source": [
    "shoots(points)"
   ]
  },
  {
   "cell_type": "code",
   "execution_count": 32,
   "metadata": {},
   "outputs": [],
   "source": [
    "# 3. Find the point closest to the center. Calculate its distance to the center\n",
    "# Defining a function that calculates the distance to the center can help.\n",
    "\n",
    "import math\n",
    "\n",
    "#This function calculates the length of a vector in the plane, i.e. the distance of the point to the origin\n",
    "def norm_2d(x):\n",
    "    return math.sqrt((x[0])**2 + (x[1])**2)\n",
    "\n",
    "#Given a list x and an object a, this function gives a list of the indexes i in len(x) such that x[i]=a\n",
    "def index_l(a, x):\n",
    "    if a not in x:\n",
    "        return print(\"%s is not an element in the list\" %a)\n",
    "    else:\n",
    "        b= [i for i, j in enumerate(x) if j == a]\n",
    "        return b\n",
    "\n",
    "#Given two lists x and v, where v a list of integers, this function returns a list which contains the elements of x with indexes in v\n",
    "def values_indexes(x, v):\n",
    "    n=len(x)\n",
    "    m=len(v)\n",
    "    if n<m:\n",
    "        return print(\"Error: The length of the indexes is greater than the list\")\n",
    "    else:\n",
    "        return[x[i] for i in v]\n",
    "\n",
    "norm_points=[norm_2d(points[i]) for i in range(len(points))]\n",
    "min_norm= min(norm_points) "
   ]
  },
  {
   "cell_type": "code",
   "execution_count": 33,
   "metadata": {},
   "outputs": [
    {
     "name": "stdout",
     "output_type": "stream",
     "text": [
      "The closest points to the target are: [(0, 2), (0, -2)]\n"
     ]
    }
   ],
   "source": [
    "print(\"The closest points to the target are: {}\".format(values_indexes(points, index_l(min_norm, norm_points))))"
   ]
  },
  {
   "cell_type": "code",
   "execution_count": 34,
   "metadata": {},
   "outputs": [
    {
     "name": "stdout",
     "output_type": "stream",
     "text": [
      "2 arrows should be picked up in the forest\n"
     ]
    }
   ],
   "source": [
    "# 4. If the target has a radius of 9, calculate the number of arrows that \n",
    "# must be picked up in the forest.\n",
    "arrows_forest=[]\n",
    "for i in range(len(norm_points)):\n",
    "    if norm_points[i] >9:\n",
    "        arrows_forest.append(i)\n",
    "    else:\n",
    "        continue\n",
    "print(\"%d arrows should be picked up in the forest\" %len(arrows_forest))\n"
   ]
  }
 ],
 "metadata": {
  "kernelspec": {
   "display_name": "Python 3",
   "language": "python",
   "name": "python3"
  },
  "language_info": {
   "codemirror_mode": {
    "name": "ipython",
    "version": 3
   },
   "file_extension": ".py",
   "mimetype": "text/x-python",
   "name": "python",
   "nbconvert_exporter": "python",
   "pygments_lexer": "ipython3",
   "version": "3.9.5"
  }
 },
 "nbformat": 4,
 "nbformat_minor": 2
}
